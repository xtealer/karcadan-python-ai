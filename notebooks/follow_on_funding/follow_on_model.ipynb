{
 "cells": [
  {
   "cell_type": "markdown",
   "id": "50d64079-dc68-44ff-ab25-faec6e166767",
   "metadata": {},
   "source": [
    "## Setup"
   ]
  },
  {
   "cell_type": "code",
   "execution_count": 1,
   "id": "870aff09-0fb3-46f2-bbea-93323c3084d7",
   "metadata": {},
   "outputs": [],
   "source": [
    "import pandas as pd\n",
    "import numpy as np\n",
    "import seaborn as sns\n",
    "import matplotlib.pyplot as plt\n",
    "from scipy import stats\n",
    "from sklearn.preprocessing import StandardScaler\n",
    "from sklearn.preprocessing import LabelEncoder\n",
    "from lightgbm import LGBMClassifier, LGBMRegressor\n",
    "from lightgbm import early_stopping, log_evaluation\n",
    "from sklearn.ensemble import RandomForestClassifier, RandomForestRegressor\n",
    "from sklearn.model_selection import StratifiedKFold, train_test_split, KFold\n",
    "from sklearn.metrics import f1_score, accuracy_score, confusion_matrix, classification_report, plot_confusion_matrix, mean_squared_error, mean_absolute_error\n",
    "import optuna\n",
    "import pickle\n",
    "from imblearn.over_sampling import SMOTE\n",
    "\n",
    "import warnings\n",
    "warnings.filterwarnings(\"ignore\")\n",
    "%matplotlib inline "
   ]
  },
  {
   "cell_type": "markdown",
   "id": "c47b9c5f-588d-474a-b57c-27b29ab8a561",
   "metadata": {},
   "source": [
    "## Creating Target variables for cleaned data"
   ]
  },
  {
   "cell_type": "code",
   "execution_count": 2,
   "id": "901cc89d-b19f-4693-9fdc-c226d88df2cb",
   "metadata": {},
   "outputs": [],
   "source": [
    "df = pd.read_csv(\"cleaned.csv\")\n",
    "# we delete Organization location since it is redundant\n",
    "df = df.drop(\"Organization Location\", axis = 1)"
   ]
  },
  {
   "cell_type": "code",
   "execution_count": 3,
   "id": "18e78cd4-ff86-4a56-92ad-3e76cbbedab5",
   "metadata": {},
   "outputs": [],
   "source": [
    "#fill null values for money raised with zero, we assume no money raised if value is None\n",
    "df[\"Money Raised\"] = df[\"Money Raised\"].fillna(0)\n",
    "# Convert dates to datetime object\n",
    "df[\"Announced Date\"] = pd.to_datetime(df[\"Announced Date\"])"
   ]
  },
  {
   "cell_type": "code",
   "execution_count": 4,
   "id": "cad490f0-fa3b-48d3-a60a-fab769deba57",
   "metadata": {},
   "outputs": [],
   "source": [
    "# sort the data based on date of funding\n",
    "df = df.sort_values(by='Announced Date')"
   ]
  },
  {
   "cell_type": "code",
   "execution_count": 5,
   "id": "425b5094-c569-4d36-b21b-fbfa0c5e04db",
   "metadata": {},
   "outputs": [],
   "source": [
    "# remove non common funding types\n",
    "fs = ['Series D', 'Pre-Seed', 'Seed', 'Private Equity', 'Series B', 'Series A', 'Angel', 'Series C', 'Series E', 'Post-IPO Equity', 'Series F', 'Post-IPO Debt', 'Series G', 'Post-IPO Secondary', 'Series H', 'Series J', 'Series I']\n",
    "df = df[df[\"Funding Type\"].isin(fs)]"
   ]
  },
  {
   "cell_type": "code",
   "execution_count": 6,
   "id": "a0ca4713-904a-4db0-b9e4-e91750dd2990",
   "metadata": {},
   "outputs": [],
   "source": [
    "# create a new column with the cumulative sum of money raised\n",
    "df[\"Total Funding\"]= df.groupby('Organization Name')['Money Raised'].transform(lambda x: x.cumsum())"
   ]
  },
  {
   "cell_type": "code",
   "execution_count": 7,
   "id": "749d22b2-b499-4d7c-b0e1-2519c3ba296b",
   "metadata": {},
   "outputs": [],
   "source": [
    "# drop all the rows whose funding type is not pre seed and total funding is 0\n",
    "df = df[(df[\"Funding Type\"] == \"Pre-Seed\") | (df[\"Money Raised\"] != 0)]"
   ]
  },
  {
   "cell_type": "code",
   "execution_count": 8,
   "id": "0174c4df-cfa9-493c-b3d8-06f8acb4c4a1",
   "metadata": {},
   "outputs": [],
   "source": [
    "# creating a new column funded which is 1 if a stratup is funded and zero otherwise\n",
    "df[\"Funded\"] = df[\"Money Raised\"].apply(lambda x: 0 if x == 0 else 1 )\n",
    "# Creating a new column which shows if a company is funded in the next round. 1 if a stratup is funded and zero otherwise. \n",
    "# This will be our target variable\n",
    "df[\"Funded_in_the_next_round\"] = df.groupby(\"Organization Name\")['Funded'].shift(-1)"
   ]
  },
  {
   "cell_type": "code",
   "execution_count": 9,
   "id": "38344eb6-50a8-47ff-bb30-42ca01b1a6b1",
   "metadata": {},
   "outputs": [],
   "source": [
    "df[\"days_till_next_funding\"] = df.groupby('Organization Name')[\"Announced Date\"].diff().dt.days\n",
    "df[\"days_till_next_funding\"] = df.groupby(\"Organization Name\")['days_till_next_funding'].shift(-1)"
   ]
  },
  {
   "cell_type": "code",
   "execution_count": 10,
   "id": "7dec8837-598c-49ce-b4ec-b3a2b4724714",
   "metadata": {},
   "outputs": [],
   "source": [
    "# Drop all rows with no values\n",
    "df = df.dropna()\n",
    "# Drop the Funded column since we no longer need it\n",
    "df = df.drop(\"Funded\", axis = 1)"
   ]
  },
  {
   "cell_type": "code",
   "execution_count": 11,
   "id": "2a4b0de8-7ddd-42ec-880c-b6cdc6fd1028",
   "metadata": {},
   "outputs": [],
   "source": [
    "\n",
    "# merging relevant columns from the exit status dataset\n",
    "df2 = pd.read_csv(\"model_data_v1.csv\")\n",
    "cols_to_keep_df = df2[[\"Organization Name\",\"Company Type\",\"Number of Founders\",\"Number of Employees\"]]\n",
    "df = df.merge(cols_to_keep_df, on = \"Organization Name\", how = \"left\").drop_duplicates().dropna()"
   ]
  },
  {
   "cell_type": "code",
   "execution_count": 12,
   "id": "e4374bbd-0723-43df-b5b3-e130d136b50b",
   "metadata": {},
   "outputs": [],
   "source": [
    "final_df = df\n",
    "final_df.to_csv(\"final.csv\", index = False)"
   ]
  },
  {
   "cell_type": "markdown",
   "id": "dd9da560-4b60-4c3f-a9f7-778c7157aced",
   "metadata": {},
   "source": [
    "## Quick Glance at Final Data"
   ]
  },
  {
   "cell_type": "code",
   "execution_count": 13,
   "id": "5e5fb333-c473-48d9-a2d7-f293868402e2",
   "metadata": {},
   "outputs": [],
   "source": [
    "data = pd.read_csv(\"final.csv\")\n",
    "train = pd.read_csv(\"final.csv\")"
   ]
  },
  {
   "cell_type": "code",
   "execution_count": 14,
   "id": "451e7554-d328-4fb5-85e4-e425ca3a6e84",
   "metadata": {},
   "outputs": [],
   "source": [
    "# df[df[\"Organization Name\"] == \"Neuralink\"].sort_values(by='Announced Date')"
   ]
  },
  {
   "cell_type": "code",
   "execution_count": 15,
   "id": "b806b927-01a3-42e6-95ad-ebafc4abbed1",
   "metadata": {},
   "outputs": [],
   "source": [
    "# remove unecessary columns \n",
    "data = data.drop([\"Organization Name\", \"Announced Date\", \"Equity Only Funding\"], axis = 1)\n",
    "train = train.drop([\"Organization Name\", \"Announced Date\", \"Equity Only Funding\"], axis = 1)"
   ]
  },
  {
   "cell_type": "code",
   "execution_count": 16,
   "id": "724940e1-a234-4b35-8ac0-4c4d83ffb1b6",
   "metadata": {},
   "outputs": [
    {
     "data": {
      "text/html": [
       "<div>\n",
       "<style scoped>\n",
       "    .dataframe tbody tr th:only-of-type {\n",
       "        vertical-align: middle;\n",
       "    }\n",
       "\n",
       "    .dataframe tbody tr th {\n",
       "        vertical-align: top;\n",
       "    }\n",
       "\n",
       "    .dataframe thead th {\n",
       "        text-align: right;\n",
       "    }\n",
       "</style>\n",
       "<table border=\"1\" class=\"dataframe\">\n",
       "  <thead>\n",
       "    <tr style=\"text-align: right;\">\n",
       "      <th></th>\n",
       "      <th>Funding Type</th>\n",
       "      <th>Money Raised</th>\n",
       "      <th>Organization Industries</th>\n",
       "      <th>Funding Stage</th>\n",
       "      <th>Region</th>\n",
       "      <th>Country</th>\n",
       "      <th>City</th>\n",
       "      <th>Total Funding</th>\n",
       "      <th>Funded_in_the_next_round</th>\n",
       "      <th>days_till_next_funding</th>\n",
       "      <th>Company Type</th>\n",
       "      <th>Number of Founders</th>\n",
       "      <th>Number of Employees</th>\n",
       "    </tr>\n",
       "  </thead>\n",
       "  <tbody>\n",
       "    <tr>\n",
       "      <th>0</th>\n",
       "      <td>Pre-Seed</td>\n",
       "      <td>120000.0</td>\n",
       "      <td>Artificial Intelligence (AI), Industrial Autom...</td>\n",
       "      <td>Seed</td>\n",
       "      <td>North America</td>\n",
       "      <td>United States</td>\n",
       "      <td>Seattle</td>\n",
       "      <td>120000.0</td>\n",
       "      <td>1.0</td>\n",
       "      <td>7307.0</td>\n",
       "      <td>For Profit</td>\n",
       "      <td>3.0</td>\n",
       "      <td>1-10</td>\n",
       "    </tr>\n",
       "    <tr>\n",
       "      <th>1</th>\n",
       "      <td>Series A</td>\n",
       "      <td>1000000.0</td>\n",
       "      <td>B2B, B2C, Business Development, Charity, Finan...</td>\n",
       "      <td>Early Stage Venture</td>\n",
       "      <td>North America</td>\n",
       "      <td>United States</td>\n",
       "      <td>New York</td>\n",
       "      <td>1000000.0</td>\n",
       "      <td>1.0</td>\n",
       "      <td>4792.0</td>\n",
       "      <td>For Profit</td>\n",
       "      <td>1.0</td>\n",
       "      <td>501-1000</td>\n",
       "    </tr>\n",
       "    <tr>\n",
       "      <th>2</th>\n",
       "      <td>Seed</td>\n",
       "      <td>1400000.0</td>\n",
       "      <td>Artificial Intelligence (AI), Business Intelli...</td>\n",
       "      <td>Seed</td>\n",
       "      <td>North America</td>\n",
       "      <td>United States</td>\n",
       "      <td>Mountain View</td>\n",
       "      <td>1400000.0</td>\n",
       "      <td>1.0</td>\n",
       "      <td>1520.0</td>\n",
       "      <td>For Profit</td>\n",
       "      <td>2.0</td>\n",
       "      <td>251-500</td>\n",
       "    </tr>\n",
       "    <tr>\n",
       "      <th>3</th>\n",
       "      <td>Angel</td>\n",
       "      <td>3000000.0</td>\n",
       "      <td>Animation, Communities, Graphic Design</td>\n",
       "      <td>Seed</td>\n",
       "      <td>Asia</td>\n",
       "      <td>China</td>\n",
       "      <td>Beijing</td>\n",
       "      <td>3000000.0</td>\n",
       "      <td>1.0</td>\n",
       "      <td>4633.0</td>\n",
       "      <td>For Profit</td>\n",
       "      <td>1.0</td>\n",
       "      <td>11-50</td>\n",
       "    </tr>\n",
       "    <tr>\n",
       "      <th>4</th>\n",
       "      <td>Series A</td>\n",
       "      <td>4200000.0</td>\n",
       "      <td>Contact Management, CRM, Crowdsourcing, Email,...</td>\n",
       "      <td>Early Stage Venture</td>\n",
       "      <td>North America</td>\n",
       "      <td>United States</td>\n",
       "      <td>San Mateo</td>\n",
       "      <td>4200000.0</td>\n",
       "      <td>1.0</td>\n",
       "      <td>478.0</td>\n",
       "      <td>For Profit</td>\n",
       "      <td>4.0</td>\n",
       "      <td>11-50</td>\n",
       "    </tr>\n",
       "  </tbody>\n",
       "</table>\n",
       "</div>"
      ],
      "text/plain": [
       "  Funding Type  Money Raised  \\\n",
       "0     Pre-Seed      120000.0   \n",
       "1     Series A     1000000.0   \n",
       "2         Seed     1400000.0   \n",
       "3        Angel     3000000.0   \n",
       "4     Series A     4200000.0   \n",
       "\n",
       "                             Organization Industries        Funding Stage  \\\n",
       "0  Artificial Intelligence (AI), Industrial Autom...                 Seed   \n",
       "1  B2B, B2C, Business Development, Charity, Finan...  Early Stage Venture   \n",
       "2  Artificial Intelligence (AI), Business Intelli...                 Seed   \n",
       "3             Animation, Communities, Graphic Design                 Seed   \n",
       "4  Contact Management, CRM, Crowdsourcing, Email,...  Early Stage Venture   \n",
       "\n",
       "           Region         Country           City  Total Funding  \\\n",
       "0   North America   United States        Seattle       120000.0   \n",
       "1   North America   United States       New York      1000000.0   \n",
       "2   North America   United States  Mountain View      1400000.0   \n",
       "3            Asia           China        Beijing      3000000.0   \n",
       "4   North America   United States      San Mateo      4200000.0   \n",
       "\n",
       "   Funded_in_the_next_round  days_till_next_funding Company Type  \\\n",
       "0                       1.0                  7307.0   For Profit   \n",
       "1                       1.0                  4792.0   For Profit   \n",
       "2                       1.0                  1520.0   For Profit   \n",
       "3                       1.0                  4633.0   For Profit   \n",
       "4                       1.0                   478.0   For Profit   \n",
       "\n",
       "   Number of Founders Number of Employees  \n",
       "0                 3.0                1-10  \n",
       "1                 1.0            501-1000  \n",
       "2                 2.0             251-500  \n",
       "3                 1.0               11-50  \n",
       "4                 4.0               11-50  "
      ]
     },
     "execution_count": 16,
     "metadata": {},
     "output_type": "execute_result"
    }
   ],
   "source": [
    "data.head()"
   ]
  },
  {
   "cell_type": "code",
   "execution_count": 17,
   "id": "b181d9b1-9164-43d1-98cb-28465acccf04",
   "metadata": {},
   "outputs": [
    {
     "data": {
      "text/plain": [
       "Index(['Funding Type', 'Money Raised', 'Organization Industries',\n",
       "       'Funding Stage', 'Region', 'Country', 'City', 'Total Funding',\n",
       "       'Funded_in_the_next_round', 'days_till_next_funding', 'Company Type',\n",
       "       'Number of Founders', 'Number of Employees'],\n",
       "      dtype='object')"
      ]
     },
     "execution_count": 17,
     "metadata": {},
     "output_type": "execute_result"
    }
   ],
   "source": [
    "data.columns"
   ]
  },
  {
   "cell_type": "code",
   "execution_count": 18,
   "id": "478c06da-4d62-4ec6-a92a-e8a8efb10fbb",
   "metadata": {},
   "outputs": [
    {
     "name": "stdout",
     "output_type": "stream",
     "text": [
      "<class 'pandas.core.frame.DataFrame'>\n",
      "RangeIndex: 40496 entries, 0 to 40495\n",
      "Data columns (total 13 columns):\n",
      " #   Column                    Non-Null Count  Dtype  \n",
      "---  ------                    --------------  -----  \n",
      " 0   Funding Type              40496 non-null  object \n",
      " 1   Money Raised              40496 non-null  float64\n",
      " 2   Organization Industries   40496 non-null  object \n",
      " 3   Funding Stage             40496 non-null  object \n",
      " 4   Region                    40496 non-null  object \n",
      " 5   Country                   40496 non-null  object \n",
      " 6   City                      40496 non-null  object \n",
      " 7   Total Funding             40496 non-null  float64\n",
      " 8   Funded_in_the_next_round  40496 non-null  float64\n",
      " 9   days_till_next_funding    40496 non-null  float64\n",
      " 10  Company Type              40496 non-null  object \n",
      " 11  Number of Founders        40496 non-null  float64\n",
      " 12  Number of Employees       40496 non-null  object \n",
      "dtypes: float64(5), object(8)\n",
      "memory usage: 4.0+ MB\n"
     ]
    }
   ],
   "source": [
    "data.info()"
   ]
  },
  {
   "cell_type": "code",
   "execution_count": 19,
   "id": "c62544c8-2f1f-4f7b-9868-a7aac27100b8",
   "metadata": {},
   "outputs": [
    {
     "data": {
      "text/plain": [
       "Funding Type                0\n",
       "Money Raised                0\n",
       "Organization Industries     0\n",
       "Funding Stage               0\n",
       "Region                      0\n",
       "Country                     0\n",
       "City                        0\n",
       "Total Funding               0\n",
       "Funded_in_the_next_round    0\n",
       "days_till_next_funding      0\n",
       "Company Type                0\n",
       "Number of Founders          0\n",
       "Number of Employees         0\n",
       "dtype: int64"
      ]
     },
     "execution_count": 19,
     "metadata": {},
     "output_type": "execute_result"
    }
   ],
   "source": [
    "#  Check for Nulll values\n",
    "data.isnull().sum()"
   ]
  },
  {
   "cell_type": "code",
   "execution_count": 20,
   "id": "84242521-15d6-49fd-9b4c-41654e5074dc",
   "metadata": {},
   "outputs": [
    {
     "data": {
      "text/plain": [
       "0"
      ]
     },
     "execution_count": 20,
     "metadata": {},
     "output_type": "execute_result"
    }
   ],
   "source": [
    "# Drop duplicates\n",
    "data = data.drop_duplicates()\n",
    "data.duplicated().sum()"
   ]
  },
  {
   "cell_type": "code",
   "execution_count": 21,
   "id": "e9f897ad-ba07-4eb5-a350-9abf0f693347",
   "metadata": {},
   "outputs": [
    {
     "data": {
      "text/plain": [
       "(40496, 13)"
      ]
     },
     "execution_count": 21,
     "metadata": {},
     "output_type": "execute_result"
    }
   ],
   "source": [
    "# shape of the data\n",
    "data.shape"
   ]
  },
  {
   "cell_type": "markdown",
   "id": "0fc3967c-0760-4f86-8d12-c9fc3a464ca5",
   "metadata": {},
   "source": [
    "## Preprocessing"
   ]
  },
  {
   "cell_type": "markdown",
   "id": "057cc691-c823-4a7f-bb7c-1e9319e47645",
   "metadata": {},
   "source": [
    "#### Encode categorical columns"
   ]
  },
  {
   "cell_type": "code",
   "execution_count": 22,
   "id": "a089c414-2da4-4b92-8543-5f8feced79f4",
   "metadata": {},
   "outputs": [],
   "source": [
    "le=LabelEncoder()"
   ]
  },
  {
   "cell_type": "code",
   "execution_count": 23,
   "id": "9b933671-93f6-4ab2-a9d9-7164d1a3f97e",
   "metadata": {},
   "outputs": [],
   "source": [
    "train['Funding Type'] = le.fit_transform(train['Funding Type'])\n",
    "train['Organization Industries'] = le.fit_transform(train['Organization Industries'])\n",
    "# train['Equity Only Funding'] = le.fit_transform(train['Equity Only Funding'])\n",
    "train['Funding Stage'] = le.fit_transform(train['Funding Stage'])\n",
    "train['Region'] = le.fit_transform(train['Region'])\n",
    "train['Number of Employees'] = le.fit_transform(train['Number of Employees'])\n",
    "train['Country'] = le.fit_transform(train['Country'])\n",
    "train['City'] = le.fit_transform(train['City'])\n",
    "train['Company Type'] = le.fit_transform(train['Company Type'])"
   ]
  },
  {
   "cell_type": "markdown",
   "id": "9ce68e9c-1d6c-40ec-a860-2f3ac289fefb",
   "metadata": {},
   "source": [
    "#### Get rid of Outliers"
   ]
  },
  {
   "cell_type": "code",
   "execution_count": 24,
   "id": "a38d383b-46d1-4e85-b064-c395056bbe28",
   "metadata": {},
   "outputs": [],
   "source": [
    "cols_to_remove_outliers = [\"Money Raised\",'days_till_next_funding']"
   ]
  },
  {
   "cell_type": "code",
   "execution_count": 25,
   "id": "aa2da1af-ff2f-4c19-9de8-ad6de20d8288",
   "metadata": {},
   "outputs": [],
   "source": [
    "mean_std={}\n",
    "col =  'days_till_next_funding'\n",
    "mean_std[col]=(train[col].mean(), train[col].std())"
   ]
  },
  {
   "cell_type": "code",
   "execution_count": 26,
   "id": "dbdd4448-ea13-4116-a995-1e62c5c752ea",
   "metadata": {},
   "outputs": [],
   "source": [
    "# Apply zscore \n",
    "train[cols_to_remove_outliers] = train[cols_to_remove_outliers].apply(stats.zscore)"
   ]
  },
  {
   "cell_type": "code",
   "execution_count": 27,
   "id": "02992f92-9c13-4672-ac55-c069c49b9364",
   "metadata": {},
   "outputs": [],
   "source": [
    "# Define a threshold for outliers\n",
    "threshold = 3\n",
    "# Get a mask for values which are NOT outliers\n",
    "mask = (np.abs(train[cols_to_remove_outliers]) < threshold).all(axis=1)\n",
    "\n",
    "train = train[mask]"
   ]
  },
  {
   "cell_type": "code",
   "execution_count": 28,
   "id": "1496199e-76cc-417b-a97a-25044b31cd1c",
   "metadata": {},
   "outputs": [],
   "source": [
    "#  helper fn to reverse scaling by zscore\n",
    "def reverse_zscore(pandas_series, mean, std):\n",
    "    return pandas_series*std+mean\n",
    "    "
   ]
  },
  {
   "cell_type": "markdown",
   "id": "fdea9d95-e91c-4e8e-85e7-4caf911793b7",
   "metadata": {},
   "source": [
    "#### Scale numerical columns"
   ]
  },
  {
   "cell_type": "code",
   "execution_count": 29,
   "id": "b577e1ef-7688-4a28-bb56-3a89b305c77c",
   "metadata": {},
   "outputs": [],
   "source": [
    "scaler = StandardScaler()"
   ]
  },
  {
   "cell_type": "code",
   "execution_count": 30,
   "id": "41eadbf3-520c-4b69-a2f9-8388d51c2ad3",
   "metadata": {},
   "outputs": [],
   "source": [
    "train[\"Money Raised\"] = scaler.fit_transform(train[\"Money Raised\"].to_frame())\n",
    "train[\"Total Funding\"] = scaler.fit_transform(train[\"Total Funding\"].to_frame())"
   ]
  },
  {
   "cell_type": "markdown",
   "id": "fb04efc7-3aed-4254-9dda-22f214355d95",
   "metadata": {},
   "source": [
    "### Train Test split"
   ]
  },
  {
   "cell_type": "code",
   "execution_count": 31,
   "id": "439ff894-c5bf-46ea-8f23-8e696f9a12a8",
   "metadata": {},
   "outputs": [],
   "source": [
    "X_class = train.drop(['Funded_in_the_next_round', 'days_till_next_funding'], axis=1)\n",
    "y_class = train['Funded_in_the_next_round']"
   ]
  },
  {
   "cell_type": "code",
   "execution_count": 32,
   "id": "a54d62c2-c7cd-4a56-b260-93365b207f53",
   "metadata": {},
   "outputs": [],
   "source": [
    "X_train_class, X_test_class, y_train_class, y_test_class = train_test_split(X_class, y_class, test_size=0.20,random_state=42,shuffle=True)"
   ]
  },
  {
   "cell_type": "markdown",
   "id": "ecd82e70-901c-4884-bd27-fca9933946fd",
   "metadata": {},
   "source": [
    "## Modelling"
   ]
  },
  {
   "cell_type": "markdown",
   "id": "334893ab-50f4-4137-9070-3b4d7fd3ed3a",
   "metadata": {},
   "source": [
    "#### Random Forest Classifier"
   ]
  },
  {
   "cell_type": "code",
   "execution_count": 33,
   "id": "f073ba83-9246-4216-9cbb-53bb5826c2b6",
   "metadata": {},
   "outputs": [
    {
     "data": {
      "text/html": [
       "<style>#sk-container-id-1 {color: black;background-color: white;}#sk-container-id-1 pre{padding: 0;}#sk-container-id-1 div.sk-toggleable {background-color: white;}#sk-container-id-1 label.sk-toggleable__label {cursor: pointer;display: block;width: 100%;margin-bottom: 0;padding: 0.3em;box-sizing: border-box;text-align: center;}#sk-container-id-1 label.sk-toggleable__label-arrow:before {content: \"▸\";float: left;margin-right: 0.25em;color: #696969;}#sk-container-id-1 label.sk-toggleable__label-arrow:hover:before {color: black;}#sk-container-id-1 div.sk-estimator:hover label.sk-toggleable__label-arrow:before {color: black;}#sk-container-id-1 div.sk-toggleable__content {max-height: 0;max-width: 0;overflow: hidden;text-align: left;background-color: #f0f8ff;}#sk-container-id-1 div.sk-toggleable__content pre {margin: 0.2em;color: black;border-radius: 0.25em;background-color: #f0f8ff;}#sk-container-id-1 input.sk-toggleable__control:checked~div.sk-toggleable__content {max-height: 200px;max-width: 100%;overflow: auto;}#sk-container-id-1 input.sk-toggleable__control:checked~label.sk-toggleable__label-arrow:before {content: \"▾\";}#sk-container-id-1 div.sk-estimator input.sk-toggleable__control:checked~label.sk-toggleable__label {background-color: #d4ebff;}#sk-container-id-1 div.sk-label input.sk-toggleable__control:checked~label.sk-toggleable__label {background-color: #d4ebff;}#sk-container-id-1 input.sk-hidden--visually {border: 0;clip: rect(1px 1px 1px 1px);clip: rect(1px, 1px, 1px, 1px);height: 1px;margin: -1px;overflow: hidden;padding: 0;position: absolute;width: 1px;}#sk-container-id-1 div.sk-estimator {font-family: monospace;background-color: #f0f8ff;border: 1px dotted black;border-radius: 0.25em;box-sizing: border-box;margin-bottom: 0.5em;}#sk-container-id-1 div.sk-estimator:hover {background-color: #d4ebff;}#sk-container-id-1 div.sk-parallel-item::after {content: \"\";width: 100%;border-bottom: 1px solid gray;flex-grow: 1;}#sk-container-id-1 div.sk-label:hover label.sk-toggleable__label {background-color: #d4ebff;}#sk-container-id-1 div.sk-serial::before {content: \"\";position: absolute;border-left: 1px solid gray;box-sizing: border-box;top: 0;bottom: 0;left: 50%;z-index: 0;}#sk-container-id-1 div.sk-serial {display: flex;flex-direction: column;align-items: center;background-color: white;padding-right: 0.2em;padding-left: 0.2em;position: relative;}#sk-container-id-1 div.sk-item {position: relative;z-index: 1;}#sk-container-id-1 div.sk-parallel {display: flex;align-items: stretch;justify-content: center;background-color: white;position: relative;}#sk-container-id-1 div.sk-item::before, #sk-container-id-1 div.sk-parallel-item::before {content: \"\";position: absolute;border-left: 1px solid gray;box-sizing: border-box;top: 0;bottom: 0;left: 50%;z-index: -1;}#sk-container-id-1 div.sk-parallel-item {display: flex;flex-direction: column;z-index: 1;position: relative;background-color: white;}#sk-container-id-1 div.sk-parallel-item:first-child::after {align-self: flex-end;width: 50%;}#sk-container-id-1 div.sk-parallel-item:last-child::after {align-self: flex-start;width: 50%;}#sk-container-id-1 div.sk-parallel-item:only-child::after {width: 0;}#sk-container-id-1 div.sk-dashed-wrapped {border: 1px dashed gray;margin: 0 0.4em 0.5em 0.4em;box-sizing: border-box;padding-bottom: 0.4em;background-color: white;}#sk-container-id-1 div.sk-label label {font-family: monospace;font-weight: bold;display: inline-block;line-height: 1.2em;}#sk-container-id-1 div.sk-label-container {text-align: center;}#sk-container-id-1 div.sk-container {/* jupyter's `normalize.less` sets `[hidden] { display: none; }` but bootstrap.min.css set `[hidden] { display: none !important; }` so we also need the `!important` here to be able to override the default hidden behavior on the sphinx rendered scikit-learn.org. See: https://github.com/scikit-learn/scikit-learn/issues/21755 */display: inline-block !important;position: relative;}#sk-container-id-1 div.sk-text-repr-fallback {display: none;}</style><div id=\"sk-container-id-1\" class=\"sk-top-container\"><div class=\"sk-text-repr-fallback\"><pre>RandomForestClassifier(n_estimators=150)</pre><b>In a Jupyter environment, please rerun this cell to show the HTML representation or trust the notebook. <br />On GitHub, the HTML representation is unable to render, please try loading this page with nbviewer.org.</b></div><div class=\"sk-container\" hidden><div class=\"sk-item\"><div class=\"sk-estimator sk-toggleable\"><input class=\"sk-toggleable__control sk-hidden--visually\" id=\"sk-estimator-id-1\" type=\"checkbox\" checked><label for=\"sk-estimator-id-1\" class=\"sk-toggleable__label sk-toggleable__label-arrow\">RandomForestClassifier</label><div class=\"sk-toggleable__content\"><pre>RandomForestClassifier(n_estimators=150)</pre></div></div></div></div></div>"
      ],
      "text/plain": [
       "RandomForestClassifier(n_estimators=150)"
      ]
     },
     "execution_count": 33,
     "metadata": {},
     "output_type": "execute_result"
    }
   ],
   "source": [
    "model_class = RandomForestClassifier(n_estimators=150) \n",
    "model_class.fit(X_train_class.values,y_train_class.values)"
   ]
  },
  {
   "cell_type": "code",
   "execution_count": 34,
   "id": "5586a148-d7ba-4599-806b-54d7f9438f44",
   "metadata": {},
   "outputs": [],
   "source": [
    "y_preds_class =  model_class.predict(X_test_class)"
   ]
  },
  {
   "cell_type": "markdown",
   "id": "a3ba555b-26f1-4284-881b-3c979c707793",
   "metadata": {},
   "source": [
    "#### Classifier evaluation"
   ]
  },
  {
   "cell_type": "code",
   "execution_count": 35,
   "id": "be401a27-d94c-459e-b20d-e3cccab6112b",
   "metadata": {},
   "outputs": [
    {
     "name": "stdout",
     "output_type": "stream",
     "text": [
      "[[   7  172]\n",
      " [  37 7715]]\n",
      "\n",
      "\n",
      "              precision    recall  f1-score   support\n",
      "\n",
      "         0.0       0.16      0.04      0.06       179\n",
      "         1.0       0.98      1.00      0.99      7752\n",
      "\n",
      "    accuracy                           0.97      7931\n",
      "   macro avg       0.57      0.52      0.52      7931\n",
      "weighted avg       0.96      0.97      0.97      7931\n",
      "\n"
     ]
    }
   ],
   "source": [
    "print(confusion_matrix(y_test_class,y_preds_class))\n",
    "print('\\n')\n",
    "print(classification_report(y_test_class,y_preds_class))"
   ]
  },
  {
   "cell_type": "code",
   "execution_count": 36,
   "id": "663d810b-86ef-4911-8564-c46ff5184b83",
   "metadata": {},
   "outputs": [
    {
     "name": "stdout",
     "output_type": "stream",
     "text": [
      "Classifier Accuracy score:  0.9736477115117892\n"
     ]
    }
   ],
   "source": [
    "print(\"Classifier Accuracy score: \" ,accuracy_score(y_test_class,y_preds_class))"
   ]
  },
  {
   "cell_type": "markdown",
   "id": "82d4b369-77a8-4ac3-832d-29c5ec29cb5e",
   "metadata": {},
   "source": [
    "#### Save the model"
   ]
  },
  {
   "cell_type": "code",
   "execution_count": 37,
   "id": "fa996ae7-e211-41fd-bb10-54480071b8d3",
   "metadata": {},
   "outputs": [],
   "source": [
    "with open(\"classifier_model.pkl\", \"wb\") as f:\n",
    "    pickle.dump(model_class, f)"
   ]
  },
  {
   "cell_type": "markdown",
   "id": "6a4b9474-ff82-418e-9be8-3b29fa8836e9",
   "metadata": {},
   "source": [
    "## Inference"
   ]
  },
  {
   "cell_type": "code",
   "execution_count": 39,
   "id": "42f89ca2-f7a2-4435-b73f-e61cb4b452cd",
   "metadata": {},
   "outputs": [],
   "source": [
    "sample = X_test_class.sample()"
   ]
  },
  {
   "cell_type": "code",
   "execution_count": 40,
   "id": "2074e563-922c-4718-9488-274fe1795aa9",
   "metadata": {},
   "outputs": [
    {
     "data": {
      "text/html": [
       "<div>\n",
       "<style scoped>\n",
       "    .dataframe tbody tr th:only-of-type {\n",
       "        vertical-align: middle;\n",
       "    }\n",
       "\n",
       "    .dataframe tbody tr th {\n",
       "        vertical-align: top;\n",
       "    }\n",
       "\n",
       "    .dataframe thead th {\n",
       "        text-align: right;\n",
       "    }\n",
       "</style>\n",
       "<table border=\"1\" class=\"dataframe\">\n",
       "  <thead>\n",
       "    <tr style=\"text-align: right;\">\n",
       "      <th></th>\n",
       "      <th>Funding Type</th>\n",
       "      <th>Money Raised</th>\n",
       "      <th>Organization Industries</th>\n",
       "      <th>Funding Stage</th>\n",
       "      <th>Region</th>\n",
       "      <th>Country</th>\n",
       "      <th>City</th>\n",
       "      <th>Total Funding</th>\n",
       "      <th>Company Type</th>\n",
       "      <th>Number of Founders</th>\n",
       "      <th>Number of Employees</th>\n",
       "    </tr>\n",
       "  </thead>\n",
       "  <tbody>\n",
       "    <tr>\n",
       "      <th>23018</th>\n",
       "      <td>3</td>\n",
       "      <td>-0.125325</td>\n",
       "      <td>8955</td>\n",
       "      <td>3</td>\n",
       "      <td>3</td>\n",
       "      <td>36</td>\n",
       "      <td>88</td>\n",
       "      <td>-0.095286</td>\n",
       "      <td>0</td>\n",
       "      <td>2.0</td>\n",
       "      <td>4</td>\n",
       "    </tr>\n",
       "  </tbody>\n",
       "</table>\n",
       "</div>"
      ],
      "text/plain": [
       "       Funding Type  Money Raised  Organization Industries  Funding Stage  \\\n",
       "23018             3     -0.125325                     8955              3   \n",
       "\n",
       "       Region  Country  City  Total Funding  Company Type  Number of Founders  \\\n",
       "23018       3       36    88      -0.095286             0                 2.0   \n",
       "\n",
       "       Number of Employees  \n",
       "23018                    4  "
      ]
     },
     "execution_count": 40,
     "metadata": {},
     "output_type": "execute_result"
    }
   ],
   "source": [
    "sample"
   ]
  },
  {
   "cell_type": "markdown",
   "id": "3d09a9cc-4548-4127-a362-65a47774f012",
   "metadata": {},
   "source": [
    "#### Classification"
   ]
  },
  {
   "cell_type": "code",
   "execution_count": 41,
   "id": "977e0ea8-34ff-43f2-b032-b3485587fdc6",
   "metadata": {},
   "outputs": [],
   "source": [
    "class_label = [\"Not Funded\", \"Funded\"]"
   ]
  },
  {
   "cell_type": "code",
   "execution_count": 42,
   "id": "be98b8cb-f7cc-4c36-a7b0-c873c0623c82",
   "metadata": {},
   "outputs": [],
   "source": [
    "def classification_prediction(sample):\n",
    "    out = {}\n",
    "    pred = model_class.predict_proba(sample).max()\n",
    "    if pred > 0.5:\n",
    "        out[\"Prediction\"] = \"Funded\"\n",
    "        out[\"confidence\"] = round(pred * 100, 2)\n",
    "       \n",
    "    else:\n",
    "         out[\"Prediction\"] = \"Not Funded\"\n",
    "         out[\"confidence\"] = round(pred * 100, 2)\n",
    "        \n",
    "    return out"
   ]
  },
  {
   "cell_type": "code",
   "execution_count": 43,
   "id": "b28d92f8-4a6a-40da-8271-a83903a2f9e5",
   "metadata": {},
   "outputs": [],
   "source": [
    "class_preds = classification_prediction(sample)"
   ]
  },
  {
   "cell_type": "code",
   "execution_count": 44,
   "id": "9925f0c0-6510-4b06-8968-0e786c7c4a17",
   "metadata": {},
   "outputs": [
    {
     "name": "stdout",
     "output_type": "stream",
     "text": [
      "Actual:  Funded\n",
      "Prediction:  Funded\n",
      "confidence:  100.0\n"
     ]
    }
   ],
   "source": [
    "print('Actual: ', class_label[int(y_test_class.loc[sample.index[0]])] )\n",
    "print('Prediction: ', class_preds[\"Prediction\"])\n",
    "print('confidence: ', class_preds[\"confidence\"])"
   ]
  },
  {
   "cell_type": "markdown",
   "id": "8c9793ac-c218-4338-967b-e04788d6ccb4",
   "metadata": {},
   "source": [
    "## Complete Output"
   ]
  },
  {
   "cell_type": "code",
   "execution_count": 45,
   "id": "983f291a-ecb4-4377-8798-1021c5ad1130",
   "metadata": {},
   "outputs": [
    {
     "name": "stdout",
     "output_type": "stream",
     "text": [
      "The startup forecast is: Funded with a confidence of  100.0\n"
     ]
    }
   ],
   "source": [
    "print('The startup forecast is:', class_preds[\"Prediction\"], \"with a confidence of \", class_preds[\"confidence\"])"
   ]
  }
 ],
 "metadata": {
  "kernelspec": {
   "display_name": "Python 3 (ipykernel)",
   "language": "python",
   "name": "python3"
  },
  "language_info": {
   "codemirror_mode": {
    "name": "ipython",
    "version": 3
   },
   "file_extension": ".py",
   "mimetype": "text/x-python",
   "name": "python",
   "nbconvert_exporter": "python",
   "pygments_lexer": "ipython3",
   "version": "3.10.7"
  }
 },
 "nbformat": 4,
 "nbformat_minor": 5
}
