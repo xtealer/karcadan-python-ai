{
 "cells": [
  {
   "cell_type": "markdown",
   "id": "32602ffc-3cd1-4403-b485-f7ea3dd98826",
   "metadata": {},
   "source": [
    "# 1. Business Understanding"
   ]
  },
  {
   "cell_type": "markdown",
   "id": "4eb7c7be-cc85-4dc7-9e50-7fce939380a8",
   "metadata": {},
   "source": [
    "The overal aim is to be able to predict the exit status of a startup. That is , Whether a startup is merged or acquired, goes public(IPO) or remains private. Th dataset used is sourced from crunchbase"
   ]
  },
  {
   "cell_type": "markdown",
   "id": "adcad95b-02d9-426b-93f0-335ef669bca1",
   "metadata": {},
   "source": [
    "## 1.1 Imports"
   ]
  },
  {
   "cell_type": "code",
   "execution_count": 108,
   "id": "d9b757d5-18a0-4e8e-830f-6535c1d7c43a",
   "metadata": {},
   "outputs": [],
   "source": [
    "import pandas as pd\n",
    "import numpy as np\n",
    "import seaborn as sns\n",
    "import matplotlib.pyplot as plt\n",
    "from scipy import stats\n",
    "from sklearn.preprocessing import StandardScaler\n",
    "from sklearn.preprocessing import LabelEncoder\n",
    "from lightgbm import LGBMClassifier\n",
    "import lightgbm as lgb\n",
    "from lightgbm import early_stopping, log_evaluation\n",
    "from sklearn.ensemble import RandomForestClassifier\n",
    "from sklearn.model_selection import StratifiedKFold, train_test_split\n",
    "from sklearn.metrics import f1_score, accuracy_score\n",
    "import optuna\n",
    "from imblearn.over_sampling import SMOTE\n",
    "from sklearn.metrics import classification_report, confusion_matrix , plot_confusion_matrix,precision_score\n",
    "import pickle\n",
    "import json\n",
    "\n",
    "import warnings\n",
    "warnings.filterwarnings(\"ignore\")\n",
    "%matplotlib inline "
   ]
  },
  {
   "cell_type": "markdown",
   "id": "920ea64d-ce72-4056-bf2c-adea150f57e4",
   "metadata": {},
   "source": [
    "## 1.2 Data"
   ]
  },
  {
   "cell_type": "code",
   "execution_count": 2,
   "id": "436a1b0b-7585-41ce-af3c-5a043b4f99c7",
   "metadata": {},
   "outputs": [],
   "source": [
    "data = pd.read_csv(\"final.csv\")"
   ]
  },
  {
   "cell_type": "markdown",
   "id": "5699d467-810f-4845-b123-76bebb694f1a",
   "metadata": {},
   "source": [
    "# 2. Exploratory Data Analysis"
   ]
  },
  {
   "cell_type": "code",
   "execution_count": 3,
   "id": "2ee78a5e-a4b1-41c1-982d-588e698c43ad",
   "metadata": {},
   "outputs": [
    {
     "data": {
      "text/html": [
       "<div>\n",
       "<style scoped>\n",
       "    .dataframe tbody tr th:only-of-type {\n",
       "        vertical-align: middle;\n",
       "    }\n",
       "\n",
       "    .dataframe tbody tr th {\n",
       "        vertical-align: top;\n",
       "    }\n",
       "\n",
       "    .dataframe thead th {\n",
       "        text-align: right;\n",
       "    }\n",
       "</style>\n",
       "<table border=\"1\" class=\"dataframe\">\n",
       "  <thead>\n",
       "    <tr style=\"text-align: right;\">\n",
       "      <th></th>\n",
       "      <th>Organization Name</th>\n",
       "      <th>Funding Type</th>\n",
       "      <th>Money Raised</th>\n",
       "      <th>Announced Date</th>\n",
       "      <th>Organization Industries</th>\n",
       "      <th>Equity Only Funding</th>\n",
       "      <th>Funding Stage</th>\n",
       "      <th>Region</th>\n",
       "      <th>Country</th>\n",
       "      <th>City</th>\n",
       "      <th>Total Funding</th>\n",
       "      <th>Company Type</th>\n",
       "      <th>Number of Founders</th>\n",
       "      <th>Number of Employees</th>\n",
       "      <th>Funding Status</th>\n",
       "    </tr>\n",
       "  </thead>\n",
       "  <tbody>\n",
       "    <tr>\n",
       "      <th>0</th>\n",
       "      <td>Retrocausal</td>\n",
       "      <td>Pre-Seed</td>\n",
       "      <td>120000.0</td>\n",
       "      <td>2000-02-01</td>\n",
       "      <td>Artificial Intelligence (AI), Industrial Autom...</td>\n",
       "      <td>Yes</td>\n",
       "      <td>Seed</td>\n",
       "      <td>North America</td>\n",
       "      <td>United States</td>\n",
       "      <td>Seattle</td>\n",
       "      <td>120000.0</td>\n",
       "      <td>For Profit</td>\n",
       "      <td>3.0</td>\n",
       "      <td>1-10</td>\n",
       "      <td>Privado</td>\n",
       "    </tr>\n",
       "    <tr>\n",
       "      <th>1</th>\n",
       "      <td>Relationship Science</td>\n",
       "      <td>Series A</td>\n",
       "      <td>1000000.0</td>\n",
       "      <td>2000-04-20</td>\n",
       "      <td>B2B, B2C, Business Development, Charity, Finan...</td>\n",
       "      <td>Yes</td>\n",
       "      <td>Early Stage Venture</td>\n",
       "      <td>North America</td>\n",
       "      <td>United States</td>\n",
       "      <td>New York</td>\n",
       "      <td>1000000.0</td>\n",
       "      <td>For Profit</td>\n",
       "      <td>1.0</td>\n",
       "      <td>501-1000</td>\n",
       "      <td>M&amp;A</td>\n",
       "    </tr>\n",
       "    <tr>\n",
       "      <th>2</th>\n",
       "      <td>Aera Technology</td>\n",
       "      <td>Seed</td>\n",
       "      <td>1400000.0</td>\n",
       "      <td>2001-01-01</td>\n",
       "      <td>Artificial Intelligence (AI), Business Intelli...</td>\n",
       "      <td>Yes</td>\n",
       "      <td>Seed</td>\n",
       "      <td>North America</td>\n",
       "      <td>United States</td>\n",
       "      <td>Mountain View</td>\n",
       "      <td>1400000.0</td>\n",
       "      <td>For Profit</td>\n",
       "      <td>2.0</td>\n",
       "      <td>251-500</td>\n",
       "      <td>Privado</td>\n",
       "    </tr>\n",
       "    <tr>\n",
       "      <th>3</th>\n",
       "      <td>LeewiART</td>\n",
       "      <td>Angel</td>\n",
       "      <td>3000000.0</td>\n",
       "      <td>2001-10-11</td>\n",
       "      <td>Animation, Communities, Graphic Design</td>\n",
       "      <td>Yes</td>\n",
       "      <td>Seed</td>\n",
       "      <td>Asia</td>\n",
       "      <td>China</td>\n",
       "      <td>Beijing</td>\n",
       "      <td>3000000.0</td>\n",
       "      <td>For Profit</td>\n",
       "      <td>1.0</td>\n",
       "      <td>11-50</td>\n",
       "      <td>Privado</td>\n",
       "    </tr>\n",
       "    <tr>\n",
       "      <th>4</th>\n",
       "      <td>Spoke</td>\n",
       "      <td>Series A</td>\n",
       "      <td>4200000.0</td>\n",
       "      <td>2002-01-01</td>\n",
       "      <td>Contact Management, CRM, Crowdsourcing, Email,...</td>\n",
       "      <td>Yes</td>\n",
       "      <td>Early Stage Venture</td>\n",
       "      <td>North America</td>\n",
       "      <td>United States</td>\n",
       "      <td>San Mateo</td>\n",
       "      <td>4200000.0</td>\n",
       "      <td>For Profit</td>\n",
       "      <td>4.0</td>\n",
       "      <td>11-50</td>\n",
       "      <td>Privado</td>\n",
       "    </tr>\n",
       "  </tbody>\n",
       "</table>\n",
       "</div>"
      ],
      "text/plain": [
       "      Organization Name Funding Type  Money Raised Announced Date  \\\n",
       "0           Retrocausal     Pre-Seed      120000.0     2000-02-01   \n",
       "1  Relationship Science     Series A     1000000.0     2000-04-20   \n",
       "2       Aera Technology         Seed     1400000.0     2001-01-01   \n",
       "3              LeewiART        Angel     3000000.0     2001-10-11   \n",
       "4                 Spoke     Series A     4200000.0     2002-01-01   \n",
       "\n",
       "                             Organization Industries Equity Only Funding  \\\n",
       "0  Artificial Intelligence (AI), Industrial Autom...                 Yes   \n",
       "1  B2B, B2C, Business Development, Charity, Finan...                 Yes   \n",
       "2  Artificial Intelligence (AI), Business Intelli...                 Yes   \n",
       "3             Animation, Communities, Graphic Design                 Yes   \n",
       "4  Contact Management, CRM, Crowdsourcing, Email,...                 Yes   \n",
       "\n",
       "         Funding Stage          Region         Country           City  \\\n",
       "0                 Seed   North America   United States        Seattle   \n",
       "1  Early Stage Venture   North America   United States       New York   \n",
       "2                 Seed   North America   United States  Mountain View   \n",
       "3                 Seed            Asia           China        Beijing   \n",
       "4  Early Stage Venture   North America   United States      San Mateo   \n",
       "\n",
       "   Total Funding Company Type  Number of Founders Number of Employees  \\\n",
       "0       120000.0   For Profit                 3.0                1-10   \n",
       "1      1000000.0   For Profit                 1.0            501-1000   \n",
       "2      1400000.0   For Profit                 2.0             251-500   \n",
       "3      3000000.0   For Profit                 1.0               11-50   \n",
       "4      4200000.0   For Profit                 4.0               11-50   \n",
       "\n",
       "  Funding Status  \n",
       "0        Privado  \n",
       "1            M&A  \n",
       "2        Privado  \n",
       "3        Privado  \n",
       "4        Privado  "
      ]
     },
     "execution_count": 3,
     "metadata": {},
     "output_type": "execute_result"
    }
   ],
   "source": [
    "data.head()"
   ]
  },
  {
   "cell_type": "code",
   "execution_count": 4,
   "id": "81ec4f81-6902-45cb-a3f8-0b8b66407a34",
   "metadata": {},
   "outputs": [
    {
     "data": {
      "text/plain": [
       "(41318, 15)"
      ]
     },
     "execution_count": 4,
     "metadata": {},
     "output_type": "execute_result"
    }
   ],
   "source": [
    "#previewing the dimensions or shape (rows and columns)of the data\n",
    "\n",
    "data.shape"
   ]
  },
  {
   "cell_type": "code",
   "execution_count": 5,
   "id": "bc57a757-473f-403f-b641-778142e58e9b",
   "metadata": {},
   "outputs": [
    {
     "name": "stdout",
     "output_type": "stream",
     "text": [
      "<class 'pandas.core.frame.DataFrame'>\n",
      "RangeIndex: 41318 entries, 0 to 41317\n",
      "Data columns (total 15 columns):\n",
      " #   Column                   Non-Null Count  Dtype  \n",
      "---  ------                   --------------  -----  \n",
      " 0   Organization Name        41318 non-null  object \n",
      " 1   Funding Type             41318 non-null  object \n",
      " 2   Money Raised             41318 non-null  float64\n",
      " 3   Announced Date           41318 non-null  object \n",
      " 4   Organization Industries  41318 non-null  object \n",
      " 5   Equity Only Funding      41318 non-null  object \n",
      " 6   Funding Stage            41318 non-null  object \n",
      " 7   Region                   41318 non-null  object \n",
      " 8   Country                  41318 non-null  object \n",
      " 9   City                     41318 non-null  object \n",
      " 10  Total Funding            41318 non-null  float64\n",
      " 11  Company Type             41318 non-null  object \n",
      " 12  Number of Founders       41318 non-null  float64\n",
      " 13  Number of Employees      41318 non-null  object \n",
      " 14  Funding Status           41318 non-null  object \n",
      "dtypes: float64(3), object(12)\n",
      "memory usage: 4.7+ MB\n"
     ]
    }
   ],
   "source": [
    "#previewing the information about the dataset\n",
    "\n",
    "data.info()"
   ]
  },
  {
   "cell_type": "code",
   "execution_count": 6,
   "id": "6d47b3e2-cb22-4ea9-88be-2cb9c3a720c4",
   "metadata": {},
   "outputs": [
    {
     "data": {
      "text/html": [
       "<div>\n",
       "<style scoped>\n",
       "    .dataframe tbody tr th:only-of-type {\n",
       "        vertical-align: middle;\n",
       "    }\n",
       "\n",
       "    .dataframe tbody tr th {\n",
       "        vertical-align: top;\n",
       "    }\n",
       "\n",
       "    .dataframe thead th {\n",
       "        text-align: right;\n",
       "    }\n",
       "</style>\n",
       "<table border=\"1\" class=\"dataframe\">\n",
       "  <thead>\n",
       "    <tr style=\"text-align: right;\">\n",
       "      <th></th>\n",
       "      <th>Money Raised</th>\n",
       "      <th>Total Funding</th>\n",
       "      <th>Number of Founders</th>\n",
       "    </tr>\n",
       "  </thead>\n",
       "  <tbody>\n",
       "    <tr>\n",
       "      <th>count</th>\n",
       "      <td>4.131800e+04</td>\n",
       "      <td>4.131800e+04</td>\n",
       "      <td>41318.000000</td>\n",
       "    </tr>\n",
       "    <tr>\n",
       "      <th>mean</th>\n",
       "      <td>1.460178e+08</td>\n",
       "      <td>2.904526e+08</td>\n",
       "      <td>2.279902</td>\n",
       "    </tr>\n",
       "    <tr>\n",
       "      <th>std</th>\n",
       "      <td>3.251395e+09</td>\n",
       "      <td>7.182801e+09</td>\n",
       "      <td>1.134428</td>\n",
       "    </tr>\n",
       "    <tr>\n",
       "      <th>min</th>\n",
       "      <td>0.000000e+00</td>\n",
       "      <td>0.000000e+00</td>\n",
       "      <td>1.000000</td>\n",
       "    </tr>\n",
       "    <tr>\n",
       "      <th>25%</th>\n",
       "      <td>4.000000e+05</td>\n",
       "      <td>6.150000e+05</td>\n",
       "      <td>1.000000</td>\n",
       "    </tr>\n",
       "    <tr>\n",
       "      <th>50%</th>\n",
       "      <td>2.400000e+06</td>\n",
       "      <td>3.300000e+06</td>\n",
       "      <td>2.000000</td>\n",
       "    </tr>\n",
       "    <tr>\n",
       "      <th>75%</th>\n",
       "      <td>1.080000e+07</td>\n",
       "      <td>1.910000e+07</td>\n",
       "      <td>3.000000</td>\n",
       "    </tr>\n",
       "    <tr>\n",
       "      <th>max</th>\n",
       "      <td>4.000000e+11</td>\n",
       "      <td>6.484640e+11</td>\n",
       "      <td>13.000000</td>\n",
       "    </tr>\n",
       "  </tbody>\n",
       "</table>\n",
       "</div>"
      ],
      "text/plain": [
       "       Money Raised  Total Funding  Number of Founders\n",
       "count  4.131800e+04   4.131800e+04        41318.000000\n",
       "mean   1.460178e+08   2.904526e+08            2.279902\n",
       "std    3.251395e+09   7.182801e+09            1.134428\n",
       "min    0.000000e+00   0.000000e+00            1.000000\n",
       "25%    4.000000e+05   6.150000e+05            1.000000\n",
       "50%    2.400000e+06   3.300000e+06            2.000000\n",
       "75%    1.080000e+07   1.910000e+07            3.000000\n",
       "max    4.000000e+11   6.484640e+11           13.000000"
      ]
     },
     "execution_count": 6,
     "metadata": {},
     "output_type": "execute_result"
    }
   ],
   "source": [
    "#previewing the summary numerical statistics of our data\n",
    "\n",
    "data.describe()"
   ]
  },
  {
   "cell_type": "code",
   "execution_count": 7,
   "id": "dc7be8ee-a1bb-4f2c-a658-f8ee2e49f263",
   "metadata": {},
   "outputs": [
    {
     "data": {
      "text/plain": [
       "Organization Name          0\n",
       "Funding Type               0\n",
       "Money Raised               0\n",
       "Announced Date             0\n",
       "Organization Industries    0\n",
       "Equity Only Funding        0\n",
       "Funding Stage              0\n",
       "Region                     0\n",
       "Country                    0\n",
       "City                       0\n",
       "Total Funding              0\n",
       "Company Type               0\n",
       "Number of Founders         0\n",
       "Number of Employees        0\n",
       "Funding Status             0\n",
       "dtype: int64"
      ]
     },
     "execution_count": 7,
     "metadata": {},
     "output_type": "execute_result"
    }
   ],
   "source": [
    "#checking for missing values in our data\n",
    "\n",
    "data.isnull().sum()"
   ]
  },
  {
   "cell_type": "code",
   "execution_count": 8,
   "id": "4363fd2f-9df8-4a0e-af2b-85dfec4f2e88",
   "metadata": {},
   "outputs": [
    {
     "data": {
      "text/plain": [
       "1"
      ]
     },
     "execution_count": 8,
     "metadata": {},
     "output_type": "execute_result"
    }
   ],
   "source": [
    "#checking for duplicated values in our data\n",
    "\n",
    "data.duplicated().sum()"
   ]
  },
  {
   "cell_type": "code",
   "execution_count": 9,
   "id": "c341b5d3-989e-483a-bd3f-e8680d3afd60",
   "metadata": {},
   "outputs": [],
   "source": [
    "# drop duplicates\n",
    "data = data.drop_duplicates()"
   ]
  },
  {
   "cell_type": "code",
   "execution_count": 10,
   "id": "a3eaba0f-97f3-4ca4-a6c2-5723d20814ee",
   "metadata": {},
   "outputs": [
    {
     "data": {
      "text/plain": [
       "Organization Name          18376\n",
       "Funding Type                  13\n",
       "Money Raised                3932\n",
       "Announced Date              5205\n",
       "Organization Industries    16207\n",
       "Equity Only Funding            1\n",
       "Funding Stage                  4\n",
       "Region                         6\n",
       "Country                       39\n",
       "City                         167\n",
       "Total Funding               8697\n",
       "Company Type                   2\n",
       "Number of Founders            13\n",
       "Number of Employees            9\n",
       "Funding Status                 3\n",
       "dtype: int64"
      ]
     },
     "execution_count": 10,
     "metadata": {},
     "output_type": "execute_result"
    }
   ],
   "source": [
    "#checking unique values\n",
    "\n",
    "data.nunique()"
   ]
  },
  {
   "cell_type": "markdown",
   "id": "6be4a69a-1be0-4083-b600-15d1d3ad57ed",
   "metadata": {},
   "source": [
    "# 3. Preprocessing"
   ]
  },
  {
   "cell_type": "code",
   "execution_count": 11,
   "id": "e9986474-0f6c-4009-b445-90083d73e4ac",
   "metadata": {},
   "outputs": [],
   "source": [
    "train = data"
   ]
  },
  {
   "cell_type": "code",
   "execution_count": 12,
   "id": "5900f7fb-4734-40e9-84eb-21df37c26c17",
   "metadata": {},
   "outputs": [],
   "source": [
    "# drop cols not used when modelling\n",
    "train = train.drop([\"Organization Name\",\"Equity Only Funding\", \"Announced Date\"], axis = 1 )"
   ]
  },
  {
   "cell_type": "markdown",
   "id": "81094189-cd36-4b57-a457-d4fb7a952d62",
   "metadata": {},
   "source": [
    "## Label Encoding"
   ]
  },
  {
   "cell_type": "code",
   "execution_count": 13,
   "id": "aa07efef-040d-4c99-95a6-1a33a8d73057",
   "metadata": {},
   "outputs": [],
   "source": [
    "le=LabelEncoder()"
   ]
  },
  {
   "cell_type": "code",
   "execution_count": 14,
   "id": "93b115cd-0eb2-4794-87c1-6e2849666d09",
   "metadata": {},
   "outputs": [],
   "source": [
    "cols = train.select_dtypes(include=['object']).columns.tolist()"
   ]
  },
  {
   "cell_type": "code",
   "execution_count": 15,
   "id": "480b403f-c2ae-4b9e-aff9-aaf47bf42a1d",
   "metadata": {},
   "outputs": [],
   "source": [
    "cat_labels = {}\n",
    "\n",
    "for col in cols:\n",
    "    train[col] = le.fit_transform(train[col]) \n",
    "    cat_labels[col] = list(le.classes_)"
   ]
  },
  {
   "cell_type": "code",
   "execution_count": 109,
   "id": "1023851c-cb87-4811-a9c2-c330d2139419",
   "metadata": {},
   "outputs": [],
   "source": [
    "# Convert and write JSON object to file\n",
    "with open(\"feature_values.json\", \"w\") as feature_values: \n",
    "    json.dump(cat_labels, feature_values)"
   ]
  },
  {
   "cell_type": "markdown",
   "id": "f9a99111-685d-419a-b4c7-225b84cd8925",
   "metadata": {},
   "source": [
    "## Drop Outliers"
   ]
  },
  {
   "cell_type": "code",
   "execution_count": 16,
   "id": "1c04a916-4080-4e19-b968-32ebe1fdc629",
   "metadata": {},
   "outputs": [],
   "source": [
    "columns_to_drop_outliers = [\"Money Raised\", 'Total Funding']"
   ]
  },
  {
   "cell_type": "code",
   "execution_count": 17,
   "id": "eb2572ca-f238-4623-bd6c-547c21020efe",
   "metadata": {},
   "outputs": [],
   "source": [
    "train = train[(np.abs(stats.zscore(train[columns_to_drop_outliers])) < 3).all(axis=1)]\n",
    "train = train.reset_index().drop(\"index\", axis=1)"
   ]
  },
  {
   "cell_type": "markdown",
   "id": "3313b8f2-2d58-4bc4-863e-98b3a53d861b",
   "metadata": {},
   "source": [
    "## Split"
   ]
  },
  {
   "cell_type": "code",
   "execution_count": 18,
   "id": "d0294f87-746c-45a7-803a-9bf82df3c673",
   "metadata": {},
   "outputs": [],
   "source": [
    "X = train.drop(\"Funding Status\", axis=1)\n",
    "y = train[\"Funding Status\"]"
   ]
  },
  {
   "cell_type": "code",
   "execution_count": 19,
   "id": "6e145a8c-d904-4de3-a5a6-f2d26e01cd66",
   "metadata": {},
   "outputs": [],
   "source": [
    "X_train, X_test, y_train, y_test = train_test_split(X, y, test_size=0.20,random_state=42)"
   ]
  },
  {
   "cell_type": "markdown",
   "id": "2df36b6c-69c4-4c7a-9cbd-e77a18336eae",
   "metadata": {},
   "source": [
    "# 4. Modelling"
   ]
  },
  {
   "cell_type": "markdown",
   "id": "8c8610d0-ead0-4e77-9297-18905a0bf9a2",
   "metadata": {},
   "source": [
    "## Random Forest"
   ]
  },
  {
   "cell_type": "code",
   "execution_count": 20,
   "id": "9ec6a749-751f-47c0-bf7f-e2f61da5b00c",
   "metadata": {},
   "outputs": [],
   "source": [
    "rf = RandomForestClassifier(n_estimators=300)"
   ]
  },
  {
   "cell_type": "code",
   "execution_count": 21,
   "id": "a1575e8e-6f8f-4a0a-a7e0-e75132c3603a",
   "metadata": {},
   "outputs": [
    {
     "data": {
      "text/html": [
       "<style>#sk-container-id-1 {color: black;background-color: white;}#sk-container-id-1 pre{padding: 0;}#sk-container-id-1 div.sk-toggleable {background-color: white;}#sk-container-id-1 label.sk-toggleable__label {cursor: pointer;display: block;width: 100%;margin-bottom: 0;padding: 0.3em;box-sizing: border-box;text-align: center;}#sk-container-id-1 label.sk-toggleable__label-arrow:before {content: \"▸\";float: left;margin-right: 0.25em;color: #696969;}#sk-container-id-1 label.sk-toggleable__label-arrow:hover:before {color: black;}#sk-container-id-1 div.sk-estimator:hover label.sk-toggleable__label-arrow:before {color: black;}#sk-container-id-1 div.sk-toggleable__content {max-height: 0;max-width: 0;overflow: hidden;text-align: left;background-color: #f0f8ff;}#sk-container-id-1 div.sk-toggleable__content pre {margin: 0.2em;color: black;border-radius: 0.25em;background-color: #f0f8ff;}#sk-container-id-1 input.sk-toggleable__control:checked~div.sk-toggleable__content {max-height: 200px;max-width: 100%;overflow: auto;}#sk-container-id-1 input.sk-toggleable__control:checked~label.sk-toggleable__label-arrow:before {content: \"▾\";}#sk-container-id-1 div.sk-estimator input.sk-toggleable__control:checked~label.sk-toggleable__label {background-color: #d4ebff;}#sk-container-id-1 div.sk-label input.sk-toggleable__control:checked~label.sk-toggleable__label {background-color: #d4ebff;}#sk-container-id-1 input.sk-hidden--visually {border: 0;clip: rect(1px 1px 1px 1px);clip: rect(1px, 1px, 1px, 1px);height: 1px;margin: -1px;overflow: hidden;padding: 0;position: absolute;width: 1px;}#sk-container-id-1 div.sk-estimator {font-family: monospace;background-color: #f0f8ff;border: 1px dotted black;border-radius: 0.25em;box-sizing: border-box;margin-bottom: 0.5em;}#sk-container-id-1 div.sk-estimator:hover {background-color: #d4ebff;}#sk-container-id-1 div.sk-parallel-item::after {content: \"\";width: 100%;border-bottom: 1px solid gray;flex-grow: 1;}#sk-container-id-1 div.sk-label:hover label.sk-toggleable__label {background-color: #d4ebff;}#sk-container-id-1 div.sk-serial::before {content: \"\";position: absolute;border-left: 1px solid gray;box-sizing: border-box;top: 0;bottom: 0;left: 50%;z-index: 0;}#sk-container-id-1 div.sk-serial {display: flex;flex-direction: column;align-items: center;background-color: white;padding-right: 0.2em;padding-left: 0.2em;position: relative;}#sk-container-id-1 div.sk-item {position: relative;z-index: 1;}#sk-container-id-1 div.sk-parallel {display: flex;align-items: stretch;justify-content: center;background-color: white;position: relative;}#sk-container-id-1 div.sk-item::before, #sk-container-id-1 div.sk-parallel-item::before {content: \"\";position: absolute;border-left: 1px solid gray;box-sizing: border-box;top: 0;bottom: 0;left: 50%;z-index: -1;}#sk-container-id-1 div.sk-parallel-item {display: flex;flex-direction: column;z-index: 1;position: relative;background-color: white;}#sk-container-id-1 div.sk-parallel-item:first-child::after {align-self: flex-end;width: 50%;}#sk-container-id-1 div.sk-parallel-item:last-child::after {align-self: flex-start;width: 50%;}#sk-container-id-1 div.sk-parallel-item:only-child::after {width: 0;}#sk-container-id-1 div.sk-dashed-wrapped {border: 1px dashed gray;margin: 0 0.4em 0.5em 0.4em;box-sizing: border-box;padding-bottom: 0.4em;background-color: white;}#sk-container-id-1 div.sk-label label {font-family: monospace;font-weight: bold;display: inline-block;line-height: 1.2em;}#sk-container-id-1 div.sk-label-container {text-align: center;}#sk-container-id-1 div.sk-container {/* jupyter's `normalize.less` sets `[hidden] { display: none; }` but bootstrap.min.css set `[hidden] { display: none !important; }` so we also need the `!important` here to be able to override the default hidden behavior on the sphinx rendered scikit-learn.org. See: https://github.com/scikit-learn/scikit-learn/issues/21755 */display: inline-block !important;position: relative;}#sk-container-id-1 div.sk-text-repr-fallback {display: none;}</style><div id=\"sk-container-id-1\" class=\"sk-top-container\"><div class=\"sk-text-repr-fallback\"><pre>RandomForestClassifier(n_estimators=300)</pre><b>In a Jupyter environment, please rerun this cell to show the HTML representation or trust the notebook. <br />On GitHub, the HTML representation is unable to render, please try loading this page with nbviewer.org.</b></div><div class=\"sk-container\" hidden><div class=\"sk-item\"><div class=\"sk-estimator sk-toggleable\"><input class=\"sk-toggleable__control sk-hidden--visually\" id=\"sk-estimator-id-1\" type=\"checkbox\" checked><label for=\"sk-estimator-id-1\" class=\"sk-toggleable__label sk-toggleable__label-arrow\">RandomForestClassifier</label><div class=\"sk-toggleable__content\"><pre>RandomForestClassifier(n_estimators=300)</pre></div></div></div></div></div>"
      ],
      "text/plain": [
       "RandomForestClassifier(n_estimators=300)"
      ]
     },
     "execution_count": 21,
     "metadata": {},
     "output_type": "execute_result"
    }
   ],
   "source": [
    "rf.fit(X_train,y_train)"
   ]
  },
  {
   "cell_type": "code",
   "execution_count": 22,
   "id": "bc2754c5-83b3-40d5-9b77-8a6372d8d6c3",
   "metadata": {},
   "outputs": [],
   "source": [
    "y_preds = rf.predict(X_test)"
   ]
  },
  {
   "cell_type": "code",
   "execution_count": 23,
   "id": "dab789c7-7309-4304-8500-d7453cc196f1",
   "metadata": {},
   "outputs": [
    {
     "data": {
      "text/plain": [
       "0.7798810823929134"
      ]
     },
     "execution_count": 23,
     "metadata": {},
     "output_type": "execute_result"
    }
   ],
   "source": [
    "accuracy_score(y_preds,y_test) "
   ]
  },
  {
   "cell_type": "code",
   "execution_count": 24,
   "id": "af4be7b5-6880-4ad6-8c88-fadfd17f4600",
   "metadata": {},
   "outputs": [
    {
     "name": "stdout",
     "output_type": "stream",
     "text": [
      "[[ 113   31  285]\n",
      " [  34  235 1100]\n",
      " [  57  307 6079]]\n",
      "\n",
      "\n",
      "              precision    recall  f1-score   support\n",
      "\n",
      "           0       0.55      0.26      0.36       429\n",
      "           1       0.41      0.17      0.24      1369\n",
      "           2       0.81      0.94      0.87      6443\n",
      "\n",
      "    accuracy                           0.78      8241\n",
      "   macro avg       0.59      0.46      0.49      8241\n",
      "weighted avg       0.73      0.78      0.74      8241\n",
      "\n"
     ]
    }
   ],
   "source": [
    "print(confusion_matrix(y_test,y_preds))\n",
    "print('\\n')\n",
    "print(classification_report(y_test,y_preds))"
   ]
  },
  {
   "cell_type": "code",
   "execution_count": 25,
   "id": "855e3f4d-f53d-414f-8dcb-37b23e1123e6",
   "metadata": {},
   "outputs": [
    {
     "data": {
      "text/plain": [
       "<sklearn.metrics._plot.confusion_matrix.ConfusionMatrixDisplay at 0x2c227f8f640>"
      ]
     },
     "execution_count": 25,
     "metadata": {},
     "output_type": "execute_result"
    },
    {
     "data": {
      "image/png": "[encoded data removed]",
      "text/plain": [
       "<Figure size 640x480 with 2 Axes>"
      ]
     },
     "metadata": {},
     "output_type": "display_data"
    }
   ],
   "source": [
    "plot_confusion_matrix(rf, X_test,y_test)"
   ]
  },
  {
   "cell_type": "markdown",
   "id": "00fff1de-f67e-4b0a-96aa-bcc31590568e",
   "metadata": {},
   "source": [
    "## LGBM"
   ]
  },
  {
   "cell_type": "code",
   "execution_count": 26,
   "id": "b83a2dae-68eb-47ae-bb9d-1207c7180797",
   "metadata": {},
   "outputs": [
    {
     "name": "stdout",
     "output_type": "stream",
     "text": [
      "accuracy_score:  0.8332928900752244\n",
      "accuracy_score:  0.8325649114292647\n",
      "accuracy_score:  0.8281970395535064\n",
      "accuracy_score:  0.8291676777481194\n",
      "accuracy_score:  0.8325649114292647\n",
      "accuracy_score:  0.8325242718446602\n",
      "accuracy_score:  0.8315533980582525\n",
      "accuracy_score:  0.833252427184466\n",
      "accuracy_score:  0.8320388349514564\n",
      "accuracy_score:  0.8254854368932039\n",
      "0.8310641799167418\n"
     ]
    }
   ],
   "source": [
    "# predictions = []\n",
    "scores = []\n",
    "i = 0\n",
    "          \n",
    "params = {'objective' : 'multiclass',\n",
    "          'num_class': 3,\n",
    "          'learning_rate': 0.09760323859805359, \n",
    "          'subsample': 0.1970825329000635, \n",
    "          'colsample_bytree': 0.9701158409610404, \n",
    "          'max_depth': 19, \n",
    "          'scale_pos_weight': 4, \n",
    "          'n_estimators': 961,\n",
    "          'verbosity': -1}\n",
    "\n",
    "fold = StratifiedKFold(n_splits=10,random_state=1,shuffle=True)\n",
    "\n",
    "for train_index,test_index in fold.split(X,y):\n",
    "    X_train,X_test = X.iloc[train_index],X.iloc[test_index]\n",
    "    y_train,y_test = y.iloc[train_index],y.iloc[test_index]\n",
    "    classifier = LGBMClassifier(**params)\n",
    "    classifier.fit(X_train,y_train)\n",
    "    preds = classifier.predict(X_test)\n",
    "    score = accuracy_score(y_test,preds)\n",
    "    scores.append(score)\n",
    "    print(\"accuracy_score: \" ,score)\n",
    "    i = i+1\n",
    "    \n",
    "print(np.mean(scores))\n"
   ]
  },
  {
   "cell_type": "code",
   "execution_count": 27,
   "id": "a713483e-d4b3-429b-8797-01decdcad3b0",
   "metadata": {},
   "outputs": [],
   "source": [
    "y_preds = classifier.predict(X_test)"
   ]
  },
  {
   "cell_type": "code",
   "execution_count": 28,
   "id": "b3e0b871-c9f2-4a03-9d11-6e4d9109a048",
   "metadata": {},
   "outputs": [
    {
     "data": {
      "text/plain": [
       "0.8254854368932039"
      ]
     },
     "execution_count": 28,
     "metadata": {},
     "output_type": "execute_result"
    }
   ],
   "source": [
    "accuracy_score(y_preds,y_test) "
   ]
  },
  {
   "cell_type": "markdown",
   "id": "98783b7e-f000-4fd1-b305-8044a2024a98",
   "metadata": {},
   "source": [
    "**An accuracy of 83%**"
   ]
  },
  {
   "cell_type": "code",
   "execution_count": 29,
   "id": "1e3c4881-9ec4-4567-82fc-61915eb7d6d6",
   "metadata": {},
   "outputs": [
    {
     "name": "stdout",
     "output_type": "stream",
     "text": [
      "[[ 133   13   69]\n",
      " [  15  186  480]\n",
      " [  17  125 3082]]\n",
      "\n",
      "\n",
      "              precision    recall  f1-score   support\n",
      "\n",
      "           0       0.81      0.62      0.70       215\n",
      "           1       0.57      0.27      0.37       681\n",
      "           2       0.85      0.96      0.90      3224\n",
      "\n",
      "    accuracy                           0.83      4120\n",
      "   macro avg       0.74      0.62      0.66      4120\n",
      "weighted avg       0.80      0.83      0.80      4120\n",
      "\n"
     ]
    }
   ],
   "source": [
    "print(confusion_matrix(y_test,y_preds))\n",
    "print('\\n')\n",
    "print(classification_report(y_test,y_preds))"
   ]
  },
  {
   "cell_type": "markdown",
   "id": "39d0e4dc-8e2d-4437-a3d9-f68ead21af13",
   "metadata": {},
   "source": [
    "## Save Model"
   ]
  },
  {
   "cell_type": "code",
   "execution_count": 31,
   "id": "a9f46f71-8ece-4aa9-ad70-83178b3c5e66",
   "metadata": {},
   "outputs": [],
   "source": [
    "with open(\"exit_status_model_v1.pkl\", \"wb\") as f:\n",
    "    pickle.dump(classifier, f)"
   ]
  },
  {
   "cell_type": "markdown",
   "id": "191dcb54-057f-4216-a1bd-6cb51a03c2eb",
   "metadata": {},
   "source": [
    "# 5. Inference"
   ]
  },
  {
   "cell_type": "code",
   "execution_count": 78,
   "id": "41fc6bb1-a603-4c3f-b4ef-b854f604be57",
   "metadata": {},
   "outputs": [],
   "source": [
    "labels_names = cat_labels[\"Funding Status\"]"
   ]
  },
  {
   "cell_type": "code",
   "execution_count": 100,
   "id": "549970b8-c9ac-44c4-ba23-9ce214804415",
   "metadata": {},
   "outputs": [
    {
     "name": "stdout",
     "output_type": "stream",
     "text": [
      "Actual:  M&A\n",
      "Prediction:  IPO\n"
     ]
    }
   ],
   "source": [
    "sample = X_test.sample()\n",
    "\n",
    "print('Actual: ',     labels_names[int(y_test.loc[sample.index[0]])])\n",
    "print('Prediction: ', labels_names[np.argmax(classifier.predict(sample))])"
   ]
  },
  {
   "cell_type": "code",
   "execution_count": null,
   "id": "cee2e1e8-766d-455f-a345-d1e16a818684",
   "metadata": {},
   "outputs": [],
   "source": []
  }
 ],
 "metadata": {
  "kernelspec": {
   "display_name": "Python 3 (ipykernel)",
   "language": "python",
   "name": "python3"
  },
  "language_info": {
   "codemirror_mode": {
    "name": "ipython",
    "version": 3
   },
   "file_extension": ".py",
   "mimetype": "text/x-python",
   "name": "python",
   "nbconvert_exporter": "python",
   "pygments_lexer": "ipython3",
   "version": "3.10.7"
  }
 },
 "nbformat": 4,
 "nbformat_minor": 5
}
